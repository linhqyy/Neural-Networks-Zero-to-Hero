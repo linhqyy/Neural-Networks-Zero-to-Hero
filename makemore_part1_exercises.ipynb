{
  "nbformat": 4,
  "nbformat_minor": 0,
  "metadata": {
    "colab": {
      "provenance": [],
      "collapsed_sections": [
        "kgcqJOQPAGAk"
      ],
      "authorship_tag": "ABX9TyMc0+8QaisdymvT2A1cG1gT"
    },
    "kernelspec": {
      "name": "python3",
      "display_name": "Python 3"
    },
    "language_info": {
      "name": "python"
    }
  },
  "cells": [
    {
      "cell_type": "code",
      "execution_count": null,
      "metadata": {
        "id": "KtKb3gB16JLV"
      },
      "outputs": [],
      "source": [
        "words = open(\"names.txt\", 'r').read().splitlines()"
      ]
    },
    {
      "cell_type": "markdown",
      "source": [
        "# E01"
      ],
      "metadata": {
        "id": "V_09mHtr_4FE"
      }
    },
    {
      "cell_type": "markdown",
      "source": [
        "Train a trigram language model, i.e. take two characters as an input to predict the 3rd one. Feel free to use either counting or a neural net. Evaluate the loss; Did it improve over a bigram model?"
      ],
      "metadata": {
        "id": "KY05YMcmTi26"
      }
    },
    {
      "cell_type": "markdown",
      "source": [
        "## Trigram counting"
      ],
      "metadata": {
        "id": "kgcqJOQPAGAk"
      }
    },
    {
      "cell_type": "code",
      "source": [
        "import torch\n",
        "N = torch.zeros((27, 27, 27), dtype=torch.int32)\n",
        "chars = sorted(list(set(''.join(words))))\n",
        "stoi = {s:i+1 for i, s in enumerate(chars)}\n",
        "stoi['.'] = 0\n",
        "itos = {i:s for s, i in stoi.items()}"
      ],
      "metadata": {
        "id": "h-gSMeQzAhFH"
      },
      "execution_count": null,
      "outputs": []
    },
    {
      "cell_type": "code",
      "source": [
        "for w in words:\n",
        "    chs = ['.'] + list(w) + ['.']\n",
        "    for ch1, ch2, ch3 in zip(chs, chs[1:], chs[2:]):\n",
        "        ix1 = stoi[ch1]\n",
        "        ix2 = stoi[ch2]\n",
        "        ix3 = stoi[ch3]\n",
        "        N[ix1, ix2, ix3] += 1\n",
        "\n",
        "P = (N+1).float()\n",
        "P /= P.sum(2, keepdim=True)"
      ],
      "metadata": {
        "id": "TJb1imFc_-6P"
      },
      "execution_count": null,
      "outputs": []
    },
    {
      "cell_type": "code",
      "source": [
        "# Loss function\n",
        "log_likelihood = 0.0\n",
        "n = 0\n",
        "for w in words:\n",
        "    chs = ['.'] + list(w) + ['.']\n",
        "    for ch1, ch2, ch3 in zip(chs, chs[1:], chs[2:]):\n",
        "        ix1 = stoi[ch1]\n",
        "        ix2 = stoi[ch2]\n",
        "        ix3 = stoi[ch3]\n",
        "        prob = P[ix1, ix2, ix3]\n",
        "        logprob = torch.log(prob)\n",
        "        log_likelihood += logprob\n",
        "        n += 1\n",
        "        # print(f'{ch1}{ch2}: {prob: .4f} {logprob: .4f}')\n",
        "\n",
        "print(f\"{log_likelihood=}\")\n",
        "nll = -log_likelihood\n",
        "print(f'{nll=}')\n",
        "print(f'{nll/n}')"
      ],
      "metadata": {
        "colab": {
          "base_uri": "https://localhost:8080/"
        },
        "id": "kXhFX5ZSL_m2",
        "outputId": "8e62a80e-fb65-42c0-8e04-b90a714c83c9"
      },
      "execution_count": null,
      "outputs": [
        {
          "output_type": "stream",
          "name": "stdout",
          "text": [
            "log_likelihood=tensor(-410414.9688)\n",
            "nll=tensor(410414.9688)\n",
            "2.092747449874878\n"
          ]
        }
      ]
    },
    {
      "cell_type": "code",
      "source": [
        "# Sampling\n",
        "g = torch.Generator().manual_seed(2148483647)\n",
        "\n",
        "for i in range(10):\n",
        "    ix1, ix2 = 0, 0\n",
        "    out = []\n",
        "    while True:\n",
        "        p = P[ix1, ix2]\n",
        "        ix3 = torch.multinomial(p, num_samples=1, replacement=True, generator=g).item()\n",
        "        out.append(itos[ix3])\n",
        "        if ix3 == 0:\n",
        "            break\n",
        "        ix1 = ix2\n",
        "        ix2 = ix3\n",
        "    print(''.join(out))"
      ],
      "metadata": {
        "colab": {
          "base_uri": "https://localhost:8080/"
        },
        "id": "AORVYUE-J0b4",
        "outputId": "3a68ac6b-fb56-4896-c683-1fbd50f6f44a"
      },
      "execution_count": null,
      "outputs": [
        {
          "output_type": "stream",
          "name": "stdout",
          "text": [
            "feon.\n",
            "se.\n",
            "rademi.\n",
            "wynnakoldesmar.\n",
            "bryn.\n",
            "volennison.\n",
            "ah.\n",
            "orah.\n",
            "aamellen.\n",
            "uviky.\n"
          ]
        }
      ]
    },
    {
      "cell_type": "markdown",
      "source": [
        "## Neural Net"
      ],
      "metadata": {
        "id": "hupmpTc8Pj1L"
      }
    },
    {
      "cell_type": "code",
      "source": [
        "import torch.nn.functional as F"
      ],
      "metadata": {
        "id": "sEyBKmpgUBdi"
      },
      "execution_count": null,
      "outputs": []
    },
    {
      "cell_type": "code",
      "source": [
        "# create the training set of trigrams\n",
        "xs, ys = [], []\n",
        "for w in words:\n",
        "    chs = ['.'] + list(w) + ['.']\n",
        "    for ch1, ch2, ch3 in zip(chs, chs[1:], chs[2:]):\n",
        "        ix1 = stoi[ch1]\n",
        "        ix2 = stoi[ch2]\n",
        "        ix3 = stoi[ch3]\n",
        "        xs.append([ix1, ix2])\n",
        "        ys.append(ix3)\n",
        "\n",
        "xs = torch.tensor(xs)\n",
        "ys = torch.tensor(ys)\n",
        "\n",
        "# initialize the 'network'\n",
        "g = torch.Generator().manual_seed(2147483647)\n",
        "W = torch.randn([54, 27], generator=g, requires_grad=True)"
      ],
      "metadata": {
        "id": "jLCm_IaDPiY9"
      },
      "execution_count": null,
      "outputs": []
    },
    {
      "cell_type": "code",
      "source": [
        "for i in range(500):\n",
        "    # forward pass\n",
        "    X1_one_hot = F.one_hot(xs[:, 0], num_classes=27).float()\n",
        "    X2_one_hot = F.one_hot(xs[:, 1], num_classes=27).float()\n",
        "    xenc = torch.cat([X1_one_hot, X2_one_hot], dim=1)\n",
        "    logits = xenc @ W\n",
        "    counts = logits.exp()\n",
        "    probs = counts / counts.sum(1, keepdims=True)\n",
        "    loss = -probs[torch.arange(len(probs)), ys].log().mean() + 0.01 * (W**2).mean()\n",
        "    if i % 100 == 0:\n",
        "        print(loss.item())\n",
        "\n",
        "    # backward pass\n",
        "    W.grad = None\n",
        "    loss.backward()\n",
        "\n",
        "    # update\n",
        "    W.data += -50 * W.grad"
      ],
      "metadata": {
        "colab": {
          "base_uri": "https://localhost:8080/"
        },
        "id": "MmB9Fd0WT5zt",
        "outputId": "f2eb6866-6d66-4813-844b-00826f6f7f48"
      },
      "execution_count": null,
      "outputs": [
        {
          "output_type": "stream",
          "name": "stdout",
          "text": [
            "4.1959710121154785\n",
            "2.272444725036621\n",
            "2.2593140602111816\n",
            "2.2556772232055664\n",
            "2.254220485687256\n"
          ]
        }
      ]
    },
    {
      "cell_type": "code",
      "source": [
        "# Sampling\n",
        "g = torch.Generator().manual_seed(2148483647)\n",
        "\n",
        "for i in range(10):\n",
        "    ix1, ix2 = 0, 0\n",
        "    out = []\n",
        "    while True:\n",
        "        X1_one_hot = F.one_hot(torch.tensor([ix1]), num_classes=27).float()\n",
        "        X2_one_hot = F.one_hot(torch.tensor([ix2]), num_classes=27).float()\n",
        "        xenc = torch.cat([X1_one_hot, X2_one_hot], dim=1)\n",
        "        logits = xenc @ W\n",
        "        counts = logits.exp()\n",
        "        p = counts / counts.sum(1, keepdims=True)\n",
        "        ix3 = torch.multinomial(p, num_samples=1, replacement=True, generator=g).item()\n",
        "        out.append(itos[ix3])\n",
        "        if ix3 == 0:\n",
        "            break\n",
        "        ix1 = ix2\n",
        "        ix2 = ix3\n",
        "    print(''.join(out))"
      ],
      "metadata": {
        "colab": {
          "base_uri": "https://localhost:8080/"
        },
        "id": "FvA2FqmkUub1",
        "outputId": "ac41eb93-b54f-4218-bbd7-f8b5634ab3be"
      },
      "execution_count": null,
      "outputs": [
        {
          "output_type": "stream",
          "name": "stdout",
          "text": [
            "uen.\n",
            "are.\n",
            "rademin.\n",
            "sonaa.\n",
            "adesmar.\n",
            "bely.\n",
            "am.\n",
            "nnelioniaha.\n",
            "rahia.\n",
            "xellen.\n"
          ]
        }
      ]
    },
    {
      "cell_type": "markdown",
      "source": [
        "# E02"
      ],
      "metadata": {
        "id": "HsuQ-4rHbHea"
      }
    },
    {
      "cell_type": "markdown",
      "source": [
        "Split up the dataset randomly into 80% train set, 10% dev set, 10% test set. Train the bigram and trigram models only on the training set. Evaluate them on dev and test splits. What can you see?"
      ],
      "metadata": {
        "id": "ocNTbBXYbJjk"
      }
    },
    {
      "cell_type": "code",
      "source": [
        "import matplotlib.pyplot as plt"
      ],
      "metadata": {
        "id": "3L6qCwg0gTqE"
      },
      "execution_count": null,
      "outputs": []
    },
    {
      "cell_type": "code",
      "source": [
        "import random\n",
        "random.shuffle(words)\n",
        "num_dev = int(0.1 * len(words))\n",
        "dev, test, train = words[:num_dev], words[num_dev:num_dev*2], words[num_dev*2:]"
      ],
      "metadata": {
        "id": "EDKd-n2ZY8ZP"
      },
      "execution_count": null,
      "outputs": []
    },
    {
      "cell_type": "code",
      "source": [
        "def create_bigram_data(data):\n",
        "    xs, ys = [], []\n",
        "    for w in data:\n",
        "        chs = ['.'] + list(w) + ['.']\n",
        "        for ch1, ch2 in zip(chs, chs[1:]):\n",
        "            ix1 = stoi[ch1]\n",
        "            ix2 = stoi[ch2]\n",
        "            xs.append(ix1)\n",
        "            ys.append(ix2)\n",
        "    xs = torch.tensor(xs)\n",
        "    ys = torch.tensor(ys)\n",
        "    return xs, ys\n",
        "\n",
        "def create_trigram_data(data):\n",
        "    xs, ys = [], []\n",
        "    for w in data:\n",
        "        chs = ['.'] + list(w) + ['.']\n",
        "        for ch1, ch2, ch3 in zip(chs, chs[1:], chs[2:]):\n",
        "            ix1 = stoi[ch1]\n",
        "            ix2 = stoi[ch2]\n",
        "            ix3 = stoi[ch3]\n",
        "            xs.append([ix1, ix2])\n",
        "            ys.append(ix3)\n",
        "\n",
        "    xs = torch.tensor(xs)\n",
        "    ys = torch.tensor(ys)\n",
        "    return xs, ys"
      ],
      "metadata": {
        "id": "YEAxOwyAdcjH"
      },
      "execution_count": null,
      "outputs": []
    },
    {
      "cell_type": "code",
      "source": [
        "bigram_xs_train, bigram_ys_train = create_bigram_data(train)\n",
        "bigram_xs_dev, bigram_ys_dev = create_bigram_data(dev)\n",
        "bigram_xs_test, bigram_ys_test = create_bigram_data(test)\n",
        "\n",
        "trigram_xs_train, trigram_ys_train = create_trigram_data(train)\n",
        "trigram_xs_dev, trigram_ys_dev = create_trigram_data(dev)\n",
        "trigram_xs_test, trigram_ys_test = create_trigram_data(test)"
      ],
      "metadata": {
        "id": "wCAopv46eeOY"
      },
      "execution_count": null,
      "outputs": []
    },
    {
      "cell_type": "code",
      "source": [
        "# evaluate function\n",
        "def eval(xs, ys, w, bigram=True):\n",
        "    if bigram == False:\n",
        "        X1_one_hot = F.one_hot(trigram_xs_train[:, 0], num_classes=27).float()\n",
        "        X2_one_hot = F.one_hot(trigram_xs_train[:, 1], num_classes=27).float()\n",
        "        xenc = torch.cat([X1_one_hot, X2_one_hot], dim=1)\n",
        "    else:\n",
        "        xenc = F.one_hot(xs, num_classes=27).float()\n",
        "    logits = xenc @ w\n",
        "    counts = logits.exp()\n",
        "    probs = counts / counts.sum(1, keepdim=True)\n",
        "    loss = -probs[torch.arange(len(ys)), ys].log().mean()\n",
        "    return loss.item()"
      ],
      "metadata": {
        "id": "M_Jk4VSBi79c"
      },
      "execution_count": null,
      "outputs": []
    },
    {
      "cell_type": "code",
      "source": [
        "# Bigram training\n",
        "# initialize the 'network'\n",
        "g = torch.Generator().manual_seed(2147483647)\n",
        "W = torch.randn([27, 27], generator=g, requires_grad=True)\n",
        "# gradient descent\n",
        "losses = []\n",
        "for i in range(500):\n",
        "\n",
        "    # forward pass\n",
        "    xenc = F.one_hot(bigram_xs_train, num_classes=27).float()\n",
        "    logits = xenc @ W\n",
        "    counts = logits.exp()\n",
        "    probs = counts / counts.sum(1, keepdim=True)\n",
        "    loss = -probs[torch.arange(len(probs)), bigram_ys_train].log().mean() + 0.01 * (W**2).mean()\n",
        "    losses.append(loss.item())\n",
        "    if i % 100 == 0:\n",
        "        print(f'it {i}')\n",
        "        print('train loss:', loss.item())\n",
        "        print('dev loss:', eval(bigram_xs_dev, bigram_ys_dev, W))\n",
        "        print('test loss:', eval(bigram_xs_test, bigram_ys_test, W))\n",
        "        print('-'*50)\n",
        "\n",
        "    # backward pass\n",
        "    W.grad = None # set to zero the gradient\n",
        "    loss.backward()\n",
        "\n",
        "    # update\n",
        "    W.data += -50 * W.grad\n",
        "\n",
        "plt.plot(losses)"
      ],
      "metadata": {
        "colab": {
          "base_uri": "https://localhost:8080/",
          "height": 881
        },
        "id": "7eoPntuvfUA7",
        "outputId": "2bfcf104-d34f-4a86-8b40-66e32ded0b2f"
      },
      "execution_count": null,
      "outputs": [
        {
          "output_type": "stream",
          "name": "stdout",
          "text": [
            "it 0\n",
            "train loss: 3.767681121826172\n",
            "dev loss: 3.7657289505004883\n",
            "test loss: 3.759673595428467\n",
            "--------------------------------------------------\n",
            "it 100\n",
            "train loss: 2.4902074337005615\n",
            "dev loss: 2.476829767227173\n",
            "test loss: 2.4713003635406494\n",
            "--------------------------------------------------\n",
            "it 200\n",
            "train loss: 2.483206272125244\n",
            "dev loss: 2.467632293701172\n",
            "test loss: 2.4623889923095703\n",
            "--------------------------------------------------\n",
            "it 300\n",
            "train loss: 2.48173451423645\n",
            "dev loss: 2.4652323722839355\n",
            "test loss: 2.4600653648376465\n",
            "--------------------------------------------------\n",
            "it 400\n",
            "train loss: 2.4812123775482178\n",
            "dev loss: 2.4642269611358643\n",
            "test loss: 2.4590978622436523\n",
            "--------------------------------------------------\n"
          ]
        },
        {
          "output_type": "execute_result",
          "data": {
            "text/plain": [
              "[<matplotlib.lines.Line2D at 0x7cfe20199c30>]"
            ]
          },
          "metadata": {},
          "execution_count": 59
        },
        {
          "output_type": "display_data",
          "data": {
            "text/plain": [
              "<Figure size 640x480 with 1 Axes>"
            ],
            "image/png": "[encoded data removed]"
          },
          "metadata": {}
        }
      ]
    },
    {
      "cell_type": "code",
      "source": [
        "# Trigram training\n",
        "# initialize the 'network'\n",
        "g = torch.Generator().manual_seed(2147483647)\n",
        "W = torch.randn([54, 27], generator=g, requires_grad=True)\n",
        "# gradient descent\n",
        "losses = []\n",
        "for i in range(500):\n",
        "    # forward pass\n",
        "    X1_one_hot = F.one_hot(trigram_xs_train[:, 0], num_classes=27).float()\n",
        "    X2_one_hot = F.one_hot(trigram_xs_train[:, 1], num_classes=27).float()\n",
        "    xenc = torch.cat([X1_one_hot, X2_one_hot], dim=1)\n",
        "    logits = xenc @ W\n",
        "    counts = logits.exp()\n",
        "    probs = counts / counts.sum(1, keepdims=True)\n",
        "    loss = -probs[torch.arange(len(probs)), trigram_ys_train].log().mean() + 0.01 * (W**2).mean()\n",
        "    losses.append(loss.item())\n",
        "    if i % 100 == 0:\n",
        "        print(f'it {i}')\n",
        "        print('train loss:', loss.item())\n",
        "        print('dev loss:', eval(trigram_xs_dev, trigram_ys_dev, W, bigram=False))\n",
        "        print('test loss:', eval(trigram_xs_test, trigram_ys_test, W, bigram=False))\n",
        "        print('-'*50)\n",
        "\n",
        "    # backward pass\n",
        "    W.grad = None # set to zero the gradient\n",
        "    loss.backward()\n",
        "\n",
        "    # update\n",
        "    W.data += -50 * W.grad\n",
        "\n",
        "plt.plot(losses)"
      ],
      "metadata": {
        "colab": {
          "base_uri": "https://localhost:8080/",
          "height": 881
        },
        "id": "iW4BOHoblRrL",
        "outputId": "2c6d0e83-0ef4-4799-c8cc-d49c9ef51ce5"
      },
      "execution_count": null,
      "outputs": [
        {
          "output_type": "stream",
          "name": "stdout",
          "text": [
            "it 0\n",
            "train loss: 4.194879531860352\n",
            "dev loss: 4.124340534210205\n",
            "test loss: 4.116871356964111\n",
            "--------------------------------------------------\n",
            "it 100\n",
            "train loss: 2.2715044021606445\n",
            "dev loss: 3.3498432636260986\n",
            "test loss: 3.3359780311584473\n",
            "--------------------------------------------------\n",
            "it 200\n",
            "train loss: 2.258418321609497\n",
            "dev loss: 3.392117500305176\n",
            "test loss: 3.380305528640747\n",
            "--------------------------------------------------\n",
            "it 300\n",
            "train loss: 2.2548084259033203\n",
            "dev loss: 3.4102187156677246\n",
            "test loss: 3.399571418762207\n",
            "--------------------------------------------------\n",
            "it 400\n",
            "train loss: 2.2533695697784424\n",
            "dev loss: 3.4198553562164307\n",
            "test loss: 3.409881591796875\n",
            "--------------------------------------------------\n"
          ]
        },
        {
          "output_type": "execute_result",
          "data": {
            "text/plain": [
              "[<matplotlib.lines.Line2D at 0x7cfe201d3ee0>]"
            ]
          },
          "metadata": {},
          "execution_count": 60
        },
        {
          "output_type": "display_data",
          "data": {
            "text/plain": [
              "<Figure size 640x480 with 1 Axes>"
            ],
            "image/png": "[encoded data removed]"
          },
          "metadata": {}
        }
      ]
    },
    {
      "cell_type": "markdown",
      "source": [
        "While the trigram model achieved a marginally lower training loss compared to the bigram model, the bigram exhibits superior generalization performance as evidenced by its stability on the development and test sets.  We observed an increase in both development and test loss for the trigram model after it 200, indicating potential overfitting."
      ],
      "metadata": {
        "id": "1pm1m2z9o8PI"
      }
    },
    {
      "cell_type": "markdown",
      "source": [
        "# E03"
      ],
      "metadata": {
        "id": "SmOIxWfcp7Uo"
      }
    },
    {
      "cell_type": "markdown",
      "source": [
        "Use the dev set to tune the strength of smoothing (or regularization) for the trigram model - i.e. try many possibilities and see which one works best based on the dev set loss. What patterns can you see in the train and dev set loss as you tune this strength? Take the best setting of the smoothing and evaluate on the test set once and at the end. How good of a loss do you achieve?"
      ],
      "metadata": {
        "id": "mqsvIxqIqDVj"
      }
    },
    {
      "cell_type": "code",
      "source": [
        "possible_regs = [1, 0.5, 0.1, 0.01, 0.001, 0]\n",
        "all_train_losses = []\n",
        "all_dev_losses = []\n",
        "models = []\n",
        "# Trigram training\n",
        "\n",
        "# gradient descent\n",
        "\n",
        "for reg in possible_regs:\n",
        "    losses = []\n",
        "    dev_losses = []\n",
        "    g = torch.Generator().manual_seed(2147483647)\n",
        "    W = torch.randn([54, 27], generator=g, requires_grad=True)\n",
        "    print(f\"Regularization: {reg}\")\n",
        "    print(\"=\"*50)\n",
        "    for i in range(500):\n",
        "        # forward pass\n",
        "        X1_one_hot = F.one_hot(trigram_xs_train[:, 0], num_classes=27).float()\n",
        "        X2_one_hot = F.one_hot(trigram_xs_train[:, 1], num_classes=27).float()\n",
        "        xenc = torch.cat([X1_one_hot, X2_one_hot], dim=1)\n",
        "        logits = xenc @ W\n",
        "        counts = logits.exp()\n",
        "        probs = counts / counts.sum(1, keepdims=True)\n",
        "        loss = -probs[torch.arange(len(probs)), trigram_ys_train].log().mean() + reg * (W**2).mean()\n",
        "        losses.append(loss.item())\n",
        "        dev_loss = eval(trigram_xs_dev, trigram_ys_dev, W, bigram=False)\n",
        "        dev_losses.append(dev_loss)\n",
        "        if i % 100 == 0:\n",
        "            print(f'it {i}')\n",
        "            print('train loss:', loss.item())\n",
        "            print('dev loss:', dev_loss)\n",
        "            print('test loss:', eval(trigram_xs_test, trigram_ys_test, W, bigram=False))\n",
        "            print('-'*50)\n",
        "\n",
        "        # backward pass\n",
        "        W.grad = None # set to zero the gradient\n",
        "        loss.backward()\n",
        "\n",
        "        # update\n",
        "        W.data += -50 * W.grad\n",
        "    all_train_losses.append(losses)\n",
        "    all_dev_losses.append(dev_losses)\n",
        "    models.append(W)\n",
        "\n"
      ],
      "metadata": {
        "id": "qTWITJyIp6ps",
        "colab": {
          "base_uri": "https://localhost:8080/"
        },
        "outputId": "a5b9616e-e0ef-4449-d215-fbaf11e6e102"
      },
      "execution_count": null,
      "outputs": [
        {
          "output_type": "stream",
          "name": "stdout",
          "text": [
            "Regularization: 1\n",
            "==================================================\n",
            "it 0\n",
            "train loss: 5.155220031738281\n",
            "dev loss: 4.124340534210205\n",
            "test loss: 4.116871356964111\n",
            "--------------------------------------------------\n",
            "it 100\n",
            "train loss: 2.544710397720337\n",
            "dev loss: 3.0485751628875732\n",
            "test loss: 3.0417184829711914\n",
            "--------------------------------------------------\n",
            "it 200\n",
            "train loss: 2.544710159301758\n",
            "dev loss: 3.0485711097717285\n",
            "test loss: 3.0417144298553467\n",
            "--------------------------------------------------\n",
            "it 300\n",
            "train loss: 2.544710159301758\n",
            "dev loss: 3.0485711097717285\n",
            "test loss: 3.0417144298553467\n",
            "--------------------------------------------------\n",
            "it 400\n",
            "train loss: 2.544710159301758\n",
            "dev loss: 3.0485711097717285\n",
            "test loss: 3.0417144298553467\n",
            "--------------------------------------------------\n",
            "Regularization: 0.5\n",
            "==================================================\n",
            "it 0\n",
            "train loss: 4.670199871063232\n",
            "dev loss: 4.124340534210205\n",
            "test loss: 4.116871356964111\n",
            "--------------------------------------------------\n",
            "it 100\n",
            "train loss: 2.4515392780303955\n",
            "dev loss: 3.1046340465545654\n",
            "test loss: 3.0963995456695557\n",
            "--------------------------------------------------\n",
            "it 200\n",
            "train loss: 2.4514548778533936\n",
            "dev loss: 3.10461163520813\n",
            "test loss: 3.0964128971099854\n",
            "--------------------------------------------------\n",
            "it 300\n",
            "train loss: 2.4514548778533936\n",
            "dev loss: 3.1046106815338135\n",
            "test loss: 3.096412181854248\n",
            "--------------------------------------------------\n",
            "it 400\n",
            "train loss: 2.4514548778533936\n",
            "dev loss: 3.1046106815338135\n",
            "test loss: 3.096412181854248\n",
            "--------------------------------------------------\n",
            "Regularization: 0.1\n",
            "==================================================\n",
            "it 0\n",
            "train loss: 4.2821831703186035\n",
            "dev loss: 4.124340534210205\n",
            "test loss: 4.116871356964111\n",
            "--------------------------------------------------\n",
            "it 100\n",
            "train loss: 2.326240301132202\n",
            "dev loss: 3.2517268657684326\n",
            "test loss: 3.2402126789093018\n",
            "--------------------------------------------------\n",
            "it 200\n",
            "train loss: 2.3191001415252686\n",
            "dev loss: 3.2575323581695557\n",
            "test loss: 3.247083902359009\n",
            "--------------------------------------------------\n",
            "it 300\n",
            "train loss: 2.318181276321411\n",
            "dev loss: 3.258054733276367\n",
            "test loss: 3.247830867767334\n",
            "--------------------------------------------------\n",
            "it 400\n",
            "train loss: 2.3180148601531982\n",
            "dev loss: 3.2581000328063965\n",
            "test loss: 3.247929334640503\n",
            "--------------------------------------------------\n",
            "Regularization: 0.01\n",
            "==================================================\n",
            "it 0\n",
            "train loss: 4.194879531860352\n",
            "dev loss: 4.124340534210205\n",
            "test loss: 4.116871356964111\n",
            "--------------------------------------------------\n",
            "it 100\n",
            "train loss: 2.2715044021606445\n",
            "dev loss: 3.3498432636260986\n",
            "test loss: 3.3359780311584473\n",
            "--------------------------------------------------\n",
            "it 200\n",
            "train loss: 2.258418321609497\n",
            "dev loss: 3.392117500305176\n",
            "test loss: 3.380305528640747\n",
            "--------------------------------------------------\n",
            "it 300\n",
            "train loss: 2.2548084259033203\n",
            "dev loss: 3.4102187156677246\n",
            "test loss: 3.399571418762207\n",
            "--------------------------------------------------\n",
            "it 400\n",
            "train loss: 2.2533695697784424\n",
            "dev loss: 3.4198553562164307\n",
            "test loss: 3.409881591796875\n",
            "--------------------------------------------------\n",
            "Regularization: 0.001\n",
            "==================================================\n",
            "it 0\n",
            "train loss: 4.1861491203308105\n",
            "dev loss: 4.124340534210205\n",
            "test loss: 4.116871356964111\n",
            "--------------------------------------------------\n",
            "it 100\n",
            "train loss: 2.2634270191192627\n",
            "dev loss: 3.3636362552642822\n",
            "test loss: 3.3494365215301514\n",
            "--------------------------------------------------\n",
            "it 200\n",
            "train loss: 2.248709201812744\n",
            "dev loss: 3.415914535522461\n",
            "test loss: 3.4038732051849365\n",
            "--------------------------------------------------\n",
            "it 300\n",
            "train loss: 2.244110584259033\n",
            "dev loss: 3.442213773727417\n",
            "test loss: 3.431577444076538\n",
            "--------------------------------------------------\n",
            "it 400\n",
            "train loss: 2.242041826248169\n",
            "dev loss: 3.4588398933410645\n",
            "test loss: 3.4491403102874756\n",
            "--------------------------------------------------\n",
            "Regularization: 0\n",
            "==================================================\n",
            "it 0\n",
            "train loss: 4.185179233551025\n",
            "dev loss: 4.124340534210205\n",
            "test loss: 4.116871356964111\n",
            "--------------------------------------------------\n",
            "it 100\n",
            "train loss: 2.262479543685913\n",
            "dev loss: 3.3652281761169434\n",
            "test loss: 3.3509905338287354\n",
            "--------------------------------------------------\n",
            "it 200\n",
            "train loss: 2.2475366592407227\n",
            "dev loss: 3.4187583923339844\n",
            "test loss: 3.4066898822784424\n",
            "--------------------------------------------------\n",
            "it 300\n",
            "train loss: 2.242785930633545\n",
            "dev loss: 3.446169376373291\n",
            "test loss: 3.4355363845825195\n",
            "--------------------------------------------------\n",
            "it 400\n",
            "train loss: 2.2406060695648193\n",
            "dev loss: 3.4638264179229736\n",
            "test loss: 3.454165458679199\n",
            "--------------------------------------------------\n"
          ]
        }
      ]
    },
    {
      "cell_type": "code",
      "source": [
        "fig, (ax1, ax2) = plt.subplots(1, 2)\n",
        "\n",
        "for i, reg in enumerate(possible_regs):\n",
        "    ax1.plot(all_train_losses[i], label=f\"regularization: {reg}\")\n",
        "    ax2.plot(all_dev_losses[i], label=f\"regularization: {reg}\")\n",
        "    ax1.legend()\n",
        "    ax1.set_title('Train Loss')\n",
        "    ax2.legend()\n",
        "    ax2.set_title('Dev Loss')\n",
        "plt.tight_layout()\n",
        "\n",
        "plt.show()"
      ],
      "metadata": {
        "colab": {
          "base_uri": "https://localhost:8080/"
        },
        "id": "rCgXcoUygNU1",
        "outputId": "95f255f1-0172-48bb-df98-30738554018b"
      },
      "execution_count": null,
      "outputs": [
        {
          "output_type": "display_data",
          "data": {
            "text/plain": [
              "<Figure size 640x480 with 2 Axes>"
            ],
            "image/png": "[encoded data removed]"
          },
          "metadata": {}
        }
      ]
    },
    {
      "cell_type": "code",
      "source": [
        "for i in range(len(models)):\n",
        "    print(eval(trigram_xs_test, trigram_ys_test, models[i], bigram=False))"
      ],
      "metadata": {
        "colab": {
          "base_uri": "https://localhost:8080/"
        },
        "id": "-aq0IqZ4kSVZ",
        "outputId": "0c0025d0-60f4-4c1e-ab3c-8b05958e08ab"
      },
      "execution_count": null,
      "outputs": [
        {
          "output_type": "stream",
          "name": "stdout",
          "text": [
            "3.0417144298553467\n",
            "3.096412181854248\n",
            "3.24794340133667\n",
            "3.4159419536590576\n",
            "3.461522102355957\n",
            "3.467561721801758\n"
          ]
        }
      ]
    },
    {
      "cell_type": "markdown",
      "source": [
        "Regularization 1 appears to perform the best based on the current evaluation."
      ],
      "metadata": {
        "id": "GfY6zh9Qusa1"
      }
    },
    {
      "cell_type": "markdown",
      "source": [
        "# E04"
      ],
      "metadata": {
        "id": "4cndOdhAvA8V"
      }
    },
    {
      "cell_type": "markdown",
      "source": [
        "We saw that our 1-hot vectors merely select a row of W, so producing these vectors explicitly feels wasteful. Can you delete our use of F.one_hot in favor of simply indexing into rows of W?"
      ],
      "metadata": {
        "id": "1wcRG6WBvJHc"
      }
    },
    {
      "cell_type": "code",
      "source": [
        "# Trigram training\n",
        "\n",
        "# gradient descent\n",
        "\n",
        "losses = []\n",
        "g = torch.Generator().manual_seed(2147483647)\n",
        "W = torch.randn([54, 27], generator=g, requires_grad=True)\n",
        "\n",
        "for i in range(500):\n",
        "    # forward pass\n",
        "    # X1_one_hot = F.one_hot(trigram_xs_train[:, 0], num_classes=27).float()\n",
        "    # X2_one_hot = F.one_hot(trigram_xs_train[:, 1], num_classes=27).float()\n",
        "    # xenc = torch.cat([X1_one_hot, X2_one_hot], dim=1)\n",
        "\n",
        "    # logits = xenc @ W\n",
        "\n",
        "    # simply indexing into rows of W\n",
        "    x1 = xs[:, 0]\n",
        "    x2 = xs[:, 1]\n",
        "    x1_w = W[x1] # The first 27 rows (0-26) are intended for the first input (X1).\n",
        "    x2_w = W[x2 + 27] # The next 27 rows (27-53) are intended for the second input (X2).\n",
        "    logits = torch.cat([x1_w, x2_w], dim=1)\n",
        "    counts = logits.exp()\n",
        "    probs = counts / counts.sum(1, keepdims=True)\n",
        "    loss = -probs[torch.arange(len(probs)), ys].log().mean() + reg * (W**2).mean()\n",
        "    losses.append(loss.item())\n",
        "    if i % 100 == 0:\n",
        "        print(f'it {i}')\n",
        "        print('train loss:', loss.item())\n",
        "        print('-'*50)\n",
        "\n",
        "    # backward pass\n",
        "    W.grad = None # set to zero the gradient\n",
        "    loss.backward()\n",
        "\n",
        "    # update\n",
        "    W.data += -50 * W.grad"
      ],
      "metadata": {
        "colab": {
          "base_uri": "https://localhost:8080/"
        },
        "id": "0v-5a2nkvDis",
        "outputId": "a1f17b97-1e01-41ed-f92c-13edb9ed71ab"
      },
      "execution_count": 78,
      "outputs": [
        {
          "output_type": "stream",
          "name": "stdout",
          "text": [
            "it 0\n",
            "train loss: 4.452778339385986\n",
            "--------------------------------------------------\n",
            "it 100\n",
            "train loss: 2.6013174057006836\n",
            "--------------------------------------------------\n",
            "it 200\n",
            "train loss: 2.5734376907348633\n",
            "--------------------------------------------------\n",
            "it 300\n",
            "train loss: 2.563947916030884\n",
            "--------------------------------------------------\n",
            "it 400\n",
            "train loss: 2.5592777729034424\n",
            "--------------------------------------------------\n"
          ]
        }
      ]
    },
    {
      "cell_type": "markdown",
      "source": [
        "# E05"
      ],
      "metadata": {
        "id": "gwI9pIUrPBwh"
      }
    },
    {
      "cell_type": "markdown",
      "source": [
        "Look up and use F.cross_entropy instead. You should achieve the same result. Can you think of why we'd prefer to use F.cross_entropy instead?"
      ],
      "metadata": {
        "id": "InSZ9wBhPEFf"
      }
    },
    {
      "cell_type": "code",
      "source": [
        "# Trigram training\n",
        "\n",
        "# gradient descent\n",
        "\n",
        "losses = []\n",
        "g = torch.Generator().manual_seed(2147483647)\n",
        "W = torch.randn([54, 27], generator=g, requires_grad=True)\n",
        "\n",
        "for i in range(500):\n",
        "    # forward pass\n",
        "    # X1_one_hot = F.one_hot(trigram_xs_train[:, 0], num_classes=27).float()\n",
        "    # X2_one_hot = F.one_hot(trigram_xs_train[:, 1], num_classes=27).float()\n",
        "    # xenc = torch.cat([X1_one_hot, X2_one_hot], dim=1)\n",
        "\n",
        "    # logits = xenc @ W\n",
        "\n",
        "    # simply indexing into rows of W\n",
        "    x1 = xs[:, 0]\n",
        "    x2 = xs[:, 1]\n",
        "    x1_w = W[x1] # The first 27 rows (0-26) are intended for the first input (X1).\n",
        "    x2_w = W[x2 + 27] # The next 27 rows (27-53) are intended for the second input (X2).\n",
        "    logits = torch.cat([x1_w, x2_w], dim=1)\n",
        "    # counts = logits.exp()\n",
        "    # probs = counts / counts.sum(1, keepdims=True)\n",
        "    # loss = -probs[torch.arange(len(probs)), ys].log().mean() + reg * (W**2).mean()\n",
        "\n",
        "    # new, using F.cross_entropy to calculate loss\n",
        "    loss = F.cross_entropy(logits, ys)\n",
        "    losses.append(loss.item())\n",
        "    if i % 100 == 0:\n",
        "        print(f'it {i}')\n",
        "        print('train loss:', loss.item())\n",
        "        print('-'*50)\n",
        "\n",
        "    # backward pass\n",
        "\n",
        "    W.grad = None # set to zero the gradient\n",
        "    loss.backward()\n",
        "\n",
        "    # update\n",
        "    W.data += -50 * W.grad"
      ],
      "metadata": {
        "colab": {
          "base_uri": "https://localhost:8080/"
        },
        "id": "VUvz6p2fO2eA",
        "outputId": "953b38b8-7fd9-4adb-ce40-f4bf1fb3b047"
      },
      "execution_count": 79,
      "outputs": [
        {
          "output_type": "stream",
          "name": "stdout",
          "text": [
            "it 0\n",
            "train loss: 4.452778339385986\n",
            "--------------------------------------------------\n",
            "it 100\n",
            "train loss: 2.6013171672821045\n",
            "--------------------------------------------------\n",
            "it 200\n",
            "train loss: 2.5734376907348633\n",
            "--------------------------------------------------\n",
            "it 300\n",
            "train loss: 2.563947916030884\n",
            "--------------------------------------------------\n",
            "it 400\n",
            "train loss: 2.5592780113220215\n",
            "--------------------------------------------------\n"
          ]
        }
      ]
    },
    {
      "cell_type": "markdown",
      "source": [
        "We prefer to use F.cross_entropy because it handles both the softmax activation and the computation of the cross-entropy loss in a single, numerically stable step. This combined approach not only simplifies the code but also prevents common numerical issues associated with manual calculations of softmax probabilities, such as underflow or overflow. Additionally, integrating these operations can lead to more efficient gradient computations during model training."
      ],
      "metadata": {
        "id": "VXy1gPwPTT4r"
      }
    },
    {
      "cell_type": "code",
      "source": [],
      "metadata": {
        "id": "jdDQj1UNSaWm"
      },
      "execution_count": null,
      "outputs": []
    }
  ]
}